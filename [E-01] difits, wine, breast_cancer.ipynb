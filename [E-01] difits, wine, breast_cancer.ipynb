{
 "cells": [
  {
   "cell_type": "markdown",
   "id": "f3d0793e",
   "metadata": {},
   "source": [
    "# 프로젝트 (1) load_digits : 손글씨를 분류해 봅시다\n",
    "\n",
    "1) 필요한 모듈 import하기   \n",
    "\n",
    "2) 데이터 준비   \n",
    "\n",
    "3) 데이터 이해하기     \n",
    "\n",
    "\n",
    "Feature Data 지정하기   \n",
    "Label Data 지정하기   \n",
    "Target Names 출력해 보기   \n",
    "데이터 Describe 해 보기   \n",
    "\n",
    "4) train, test 데이터 분리   \n",
    "\n",
    "5) 다양한 모델로 학습시켜보기   \n",
    "\n",
    "6) 모델을 평가해 보기\n",
    "\n",
    "\n",
    "==========================================================================================================================================\n",
    "\n",
    "\n",
    "\n",
    "### 1) 필요한 모듈 import하기 "
   ]
  },
  {
   "cell_type": "code",
   "execution_count": 1,
   "id": "7b39c9e5",
   "metadata": {},
   "outputs": [
    {
     "name": "stdout",
     "output_type": "stream",
     "text": [
      "1.0\n"
     ]
    }
   ],
   "source": [
    "import sklearn\n",
    "\n",
    "print(sklearn.__version__)"
   ]
  },
  {
   "cell_type": "code",
   "execution_count": 33,
   "id": "037cf404",
   "metadata": {},
   "outputs": [],
   "source": [
    "import pandas as pd\n",
    "import pandas\n",
    "from sklearn.model_selection import train_test_split\n",
    "from sklearn.datasets import load_iris\n",
    "from sklearn.datasets import load_wine\n",
    "from sklearn.datasets import load_breast_cancer\n",
    "from sklearn.tree import DecisionTreeClassifier\n",
    "from sklearn.metrics import accuracy_score\n",
    "from sklearn.metrics import classification_report\n",
    "from sklearn.ensemble import RandomForestClassifier\n",
    "from sklearn import svm\n",
    "from sklearn.linear_model import SGDClassifier\n",
    "from sklearn.linear_model import LogisticRegression\n",
    "from sklearn.datasets import load_digits\n",
    "import matplotlib.pyplot as plt\n",
    "%matplotlib inline\n",
    "from sklearn.metrics import confusion_matrix"
   ]
  },
  {
   "cell_type": "markdown",
   "id": "dd0a6026",
   "metadata": {},
   "source": [
    "### 2~3) 데이터 준비 및 이해하기"
   ]
  },
  {
   "cell_type": "code",
   "execution_count": 3,
   "id": "826452c4",
   "metadata": {},
   "outputs": [
    {
     "name": "stdout",
     "output_type": "stream",
     "text": [
      "dict_keys(['data', 'target', 'frame', 'feature_names', 'target_names', 'images', 'DESCR'])\n"
     ]
    }
   ],
   "source": [
    "# key를 통해 데이터 확인\n",
    "# KEY를 통해 불러온 손글씨파일을 확인한다.\n",
    "\n",
    "digits = load_digits() \n",
    "print(digits.keys())"
   ]
  },
  {
   "cell_type": "code",
   "execution_count": 26,
   "id": "7ee05cf8",
   "metadata": {
    "scrolled": true
   },
   "outputs": [
    {
     "name": "stdout",
     "output_type": "stream",
     "text": [
      ".. _digits_dataset:\n",
      "\n",
      "Optical recognition of handwritten digits dataset\n",
      "--------------------------------------------------\n",
      "\n",
      "**Data Set Characteristics:**\n",
      "\n",
      "    :Number of Instances: 1797\n",
      "    :Number of Attributes: 64\n",
      "    :Attribute Information: 8x8 image of integer pixels in the range 0..16.\n",
      "    :Missing Attribute Values: None\n",
      "    :Creator: E. Alpaydin (alpaydin '@' boun.edu.tr)\n",
      "    :Date: July; 1998\n",
      "\n",
      "This is a copy of the test set of the UCI ML hand-written digits datasets\n",
      "https://archive.ics.uci.edu/ml/datasets/Optical+Recognition+of+Handwritten+Digits\n",
      "\n",
      "The data set contains images of hand-written digits: 10 classes where\n",
      "each class refers to a digit.\n",
      "\n",
      "Preprocessing programs made available by NIST were used to extract\n",
      "normalized bitmaps of handwritten digits from a preprinted form. From a\n",
      "total of 43 people, 30 contributed to the training set and different 13\n",
      "to the test set. 32x32 bitmaps are divided into nonoverlapping blocks of\n",
      "4x4 and the number of on pixels are counted in each block. This generates\n",
      "an input matrix of 8x8 where each element is an integer in the range\n",
      "0..16. This reduces dimensionality and gives invariance to small\n",
      "distortions.\n",
      "\n",
      "For info on NIST preprocessing routines, see M. D. Garris, J. L. Blue, G.\n",
      "T. Candela, D. L. Dimmick, J. Geist, P. J. Grother, S. A. Janet, and C.\n",
      "L. Wilson, NIST Form-Based Handprint Recognition System, NISTIR 5469,\n",
      "1994.\n",
      "\n",
      ".. topic:: References\n",
      "\n",
      "  - C. Kaynak (1995) Methods of Combining Multiple Classifiers and Their\n",
      "    Applications to Handwritten Digit Recognition, MSc Thesis, Institute of\n",
      "    Graduate Studies in Science and Engineering, Bogazici University.\n",
      "  - E. Alpaydin, C. Kaynak (1998) Cascading Classifiers, Kybernetika.\n",
      "  - Ken Tang and Ponnuthurai N. Suganthan and Xi Yao and A. Kai Qin.\n",
      "    Linear dimensionalityreduction using relevance weighted LDA. School of\n",
      "    Electrical and Electronic Engineering Nanyang Technological University.\n",
      "    2005.\n",
      "  - Claudio Gentile. A New Approximate Maximal Margin Classification\n",
      "    Algorithm. NIPS. 2000.\n",
      "\n"
     ]
    }
   ],
   "source": [
    "# 데이터 Describe 해 보기\n",
    "print(digits.DESCR)"
   ]
  },
  {
   "cell_type": "code",
   "execution_count": 12,
   "id": "c9c50f55",
   "metadata": {},
   "outputs": [
    {
     "name": "stdout",
     "output_type": "stream",
     "text": [
      "(1797, 64)\n"
     ]
    }
   ],
   "source": [
    "# feature를 저장 / Feature Data 지정하기\n",
    "# 손글씨 데이터에는 64개의 변수(특징)이 있고 총 1797개의 데이터(행)가 있다\n",
    "\n",
    "digits_data = digits.data\n",
    "print(digits_data.shape)    # 데이터(손글씨 이미지)의 개수, 이미지당 Pixel 수"
   ]
  },
  {
   "cell_type": "code",
   "execution_count": 7,
   "id": "996e9c4a",
   "metadata": {},
   "outputs": [
    {
     "data": {
      "text/plain": [
       "array([ 0.,  0.,  5., 13.,  9.,  1.,  0.,  0.,  0.,  0., 13., 15., 10.,\n",
       "       15.,  5.,  0.,  0.,  3., 15.,  2.,  0., 11.,  8.,  0.,  0.,  4.,\n",
       "       12.,  0.,  0.,  8.,  8.,  0.,  0.,  5.,  8.,  0.,  0.,  9.,  8.,\n",
       "        0.,  0.,  4., 11.,  0.,  1., 12.,  7.,  0.,  0.,  2., 14.,  5.,\n",
       "       10., 12.,  0.,  0.,  0.,  0.,  6., 13., 10.,  0.,  0.,  0.])"
      ]
     },
     "execution_count": 7,
     "metadata": {},
     "output_type": "execute_result"
    }
   ],
   "source": [
    "# feature데이터의 0번째 데이터 숫자 확인\n",
    "# 이미지 데이터를 숫자로 잘 불러온 모습이다\n",
    "\n",
    "digits_data[0] # 각 이미지가 64개의 Piexel로 구성된 것을 확인할 수 있습니다."
   ]
  },
  {
   "cell_type": "code",
   "execution_count": 16,
   "id": "d82123ad",
   "metadata": {},
   "outputs": [
    {
     "data": {
      "image/png": "[encoded data removed]",
      "text/plain": [
       "<Figure size 432x288 with 1 Axes>"
      ]
     },
     "metadata": {
      "needs_background": "light"
     },
     "output_type": "display_data"
    }
   ],
   "source": [
    "# feature의 모양 확인\n",
    "# 이미지를 숫자로 불러왔지만 matplotlib을 이용해서 그림모양으로 확인을 한다.\n",
    "plt.imshow(digits.data[0].reshape(8, 8), cmap='gray')\n",
    "plt.axis('off')\n",
    "plt.show()"
   ]
  },
  {
   "cell_type": "markdown",
   "id": "759aed34",
   "metadata": {},
   "source": [
    "데이터가 1797개의 행을 가지고 있으므로 라벨 또한 1797행을 가지고 있다."
   ]
  },
  {
   "cell_type": "code",
   "execution_count": 17,
   "id": "bd31668a",
   "metadata": {},
   "outputs": [
    {
     "name": "stdout",
     "output_type": "stream",
     "text": [
      "(1797,)\n"
     ]
    }
   ],
   "source": [
    "# 라벨 저장  / Label Data 지정하기\n",
    "digits_label = digits.target\n",
    "print(digits_label.shape)"
   ]
  },
  {
   "cell_type": "code",
   "execution_count": 18,
   "id": "44c12669",
   "metadata": {},
   "outputs": [
    {
     "data": {
      "text/plain": [
       "array([0, 1, 2, 3, 4, 5, 6, 7, 8, 9, 0, 1, 2, 3, 4, 5, 6, 7, 8, 9])"
      ]
     },
     "execution_count": 18,
     "metadata": {},
     "output_type": "execute_result"
    }
   ],
   "source": [
    "#라벨이 들어가 있는 모양 확인\n",
    "digits_label[0:20]"
   ]
  },
  {
   "cell_type": "markdown",
   "id": "54207ce6",
   "metadata": {},
   "source": [
    "라벨은 0~9의 값을 가진다."
   ]
  },
  {
   "cell_type": "code",
   "execution_count": 19,
   "id": "ff77dd62",
   "metadata": {},
   "outputs": [
    {
     "data": {
      "text/plain": [
       "array([0, 1, 2, 3, 4, 5, 6, 7, 8, 9])"
      ]
     },
     "execution_count": 19,
     "metadata": {},
     "output_type": "execute_result"
    }
   ],
   "source": [
    "#라벨들의 종류를 확인  / Target Names 출력해 보기\n",
    "digits.target_names"
   ]
  },
  {
   "cell_type": "markdown",
   "id": "eff9f6aa",
   "metadata": {},
   "source": [
    "### 4. train, test 데이터 분리\n",
    "train test를 분리하여 모델에 적용하기 위해 split을 진행한다."
   ]
  },
  {
   "cell_type": "code",
   "execution_count": 24,
   "id": "552b191c",
   "metadata": {},
   "outputs": [],
   "source": [
    "#train데이터와 test데이터를 위해 split하기\n",
    "X_train, X_test, y_train, y_test = train_test_split(digits_data, \n",
    "                                                    digits_label, \n",
    "                                                    test_size=0.2, \n",
    "                                                    random_state=1)"
   ]
  },
  {
   "cell_type": "markdown",
   "id": "e4bee553",
   "metadata": {},
   "source": [
    "### 5. 다양한 모델로 학습시켜보기\n",
    "####  Decision Tree (의사결정나무)"
   ]
  },
  {
   "cell_type": "code",
   "execution_count": 63,
   "id": "1b9c73ca",
   "metadata": {
    "scrolled": true
   },
   "outputs": [
    {
     "name": "stdout",
     "output_type": "stream",
     "text": [
      "              precision    recall  f1-score   support\n",
      "\n",
      "           0       0.93      0.90      0.92        42\n",
      "           1       0.95      0.96      0.95        72\n",
      "\n",
      "    accuracy                           0.94       114\n",
      "   macro avg       0.94      0.93      0.93       114\n",
      "weighted avg       0.94      0.94      0.94       114\n",
      "\n",
      "[[38  4]\n",
      " [ 3 69]]\n",
      "의사결정나무의 정확도 :  0.9385964912280702\n",
      "              precision    recall  f1-score   support\n",
      "\n",
      "           0       0.97      0.90      0.94        42\n",
      "           1       0.95      0.99      0.97        72\n",
      "\n",
      "    accuracy                           0.96       114\n",
      "   macro avg       0.96      0.95      0.95       114\n",
      "weighted avg       0.96      0.96      0.96       114\n",
      "\n",
      "[[38  4]\n",
      " [ 1 71]]\n",
      "랜덤포레스트의 정확도 :  0.956140350877193\n",
      "              precision    recall  f1-score   support\n",
      "\n",
      "           0       1.00      0.74      0.85        42\n",
      "           1       0.87      1.00      0.93        72\n",
      "\n",
      "    accuracy                           0.90       114\n",
      "   macro avg       0.93      0.87      0.89       114\n",
      "weighted avg       0.92      0.90      0.90       114\n",
      "\n",
      "[[31 11]\n",
      " [ 0 72]]\n",
      "SVM의 정확도 :  0.9035087719298246\n",
      "              precision    recall  f1-score   support\n",
      "\n",
      "           0       0.95      0.88      0.91        42\n",
      "           1       0.93      0.97      0.95        72\n",
      "\n",
      "    accuracy                           0.94       114\n",
      "   macro avg       0.94      0.93      0.93       114\n",
      "weighted avg       0.94      0.94      0.94       114\n",
      "\n",
      "[[37  5]\n",
      " [ 2 70]]\n",
      "sgd의 정확도:  0.9385964912280702\n",
      "              precision    recall  f1-score   support\n",
      "\n",
      "           0       0.95      0.90      0.93        42\n",
      "           1       0.95      0.97      0.96        72\n",
      "\n",
      "    accuracy                           0.95       114\n",
      "   macro avg       0.95      0.94      0.94       114\n",
      "weighted avg       0.95      0.95      0.95       114\n",
      "\n",
      "[[38  4]\n",
      " [ 2 70]]\n",
      "LogisticRegression의 정확도 :  0.9473684210526315\n"
     ]
    },
    {
     "name": "stderr",
     "output_type": "stream",
     "text": [
      "/opt/conda/lib/python3.9/site-packages/sklearn/linear_model/_logistic.py:814: ConvergenceWarning: lbfgs failed to converge (status=1):\n",
      "STOP: TOTAL NO. of ITERATIONS REACHED LIMIT.\n",
      "\n",
      "Increase the number of iterations (max_iter) or scale the data as shown in:\n",
      "    https://scikit-learn.org/stable/modules/preprocessing.html\n",
      "Please also refer to the documentation for alternative solver options:\n",
      "    https://scikit-learn.org/stable/modules/linear_model.html#logistic-regression\n",
      "  n_iter_i = _check_optimize_result(\n"
     ]
    }
   ],
   "source": [
    "# Decision Tree (의사결정나무)\n",
    "\n",
    "# 훈련(모델의 적용)\n",
    "decision_tree = DecisionTreeClassifier(random_state=32) \n",
    "# 훈련\n",
    "decision_tree.fit(X_train, y_train)\n",
    "# 예측\n",
    "y_pred = decision_tree.predict(X_test) # 훈련된 분류기에 X_test라는 테스트 데이터셋을 넣어 얼마나 예측했는지 확인한다.\n",
    "# 분석결과 확인\n",
    "print(classification_report(y_test, y_pred)) # 결과를 지표로 확인하기 위해 classification_report를 활용해 y_test, y_pred 값을 넣어 확인한다.\n",
    "# 오차행렬인 컴퓨전 메트릭스 확인\n",
    "decision_matrix = confusion_matrix(y_test, y_pred)\n",
    "print(decision_matrix)\n",
    "#정확도 비교해보기\n",
    "decision_accuracy = accuracy_score(y_test, y_pred)\n",
    "print('의사결정나무의 정확도 : ',decision_accuracy)\n",
    "\n",
    "# Random Forest(랜덤포레스트)\n",
    "\n",
    "# 모델 적용\n",
    "random_forest = RandomForestClassifier(random_state=32) \n",
    "# 훈련\n",
    "random_forest.fit(X_train, y_train) \n",
    "# 예측\n",
    "y_pred = random_forest.predict(X_test) \n",
    "# 분석 결과 확인\n",
    "print(classification_report(y_test, y_pred))\n",
    "# 오차행렬인 컴퓨전 메트릭스 확인\n",
    "random_matrix = confusion_matrix(y_test, y_pred)\n",
    "print(random_matrix)\n",
    "#정확도 비교해보기\n",
    "random_accuracy = accuracy_score(y_test, y_pred)\n",
    "print('랜덤포레스트의 정확도 : ',random_accuracy)\n",
    "\n",
    "# SVM\n",
    "\n",
    "# 모델 적용\n",
    "svm_model = svm.SVC() \n",
    "# 훈련\n",
    "svm_model.fit(X_train, y_train)  \n",
    "# 예측\n",
    "y_pred = svm_model.predict(X_test) \n",
    "# 분석 결과 확인\n",
    "print(classification_report(y_test, y_pred)) \n",
    "# 오차행렬인 컴퓨전 메트릭스 확인\n",
    "svm_matrix = confusion_matrix(y_test, y_pred)\n",
    "print(svm_matrix)\n",
    "#정확도 비교해보기\n",
    "svm_accuracy = accuracy_score(y_test, y_pred)\n",
    "print('SVM의 정확도 : ',svm_accuracy)\n",
    "\n",
    "#SGD Classifier\n",
    "\n",
    "# 모델 적용\n",
    "sgd_model = SGDClassifier()\n",
    "# 훈련\n",
    "sgd_model.fit(X_train, y_train)    \n",
    "# 예측\n",
    "y_pred = sgd_model.predict(X_test) \n",
    "# 분석 결과 확인\n",
    "print(classification_report(y_test, y_pred)) \n",
    "# 오차행렬인 컴퓨전 메트릭스 확인\n",
    "sgd_matrix = confusion_matrix(y_test, y_pred)\n",
    "print(sgd_matrix)\n",
    "# 정확도 비교하기\n",
    "sgd_accuracy = accuracy_score(y_test, y_pred)\n",
    "print(\"sgd의 정확도: \", sgd_accuracy)\n",
    "\n",
    "# Logistic Regression\n",
    "\n",
    "# 모델 적용\n",
    "logistic_model = LogisticRegression()\n",
    "logistic_model.fit(X_train, y_train)   \n",
    "# 예측\n",
    "y_pred = logistic_model.predict(X_test)\n",
    "# 분석 결과 확인\n",
    "print(classification_report(y_test, y_pred))\n",
    "# 오차행렬인 컴퓨전 메트릭스 확인\n",
    "logistic_matrix = confusion_matrix(y_test, y_pred)\n",
    "print(logistic_matrix)\n",
    "# 정확도 비교하기\n",
    "logistic_accuracy = accuracy_score(y_test, y_pred)\n",
    "print('LogisticRegression의 정확도 : ',logistic_accuracy)"
   ]
  },
  {
   "cell_type": "code",
   "execution_count": 64,
   "id": "36015987",
   "metadata": {
    "scrolled": true
   },
   "outputs": [
    {
     "name": "stdout",
     "output_type": "stream",
     "text": [
      "의사결정나무의 정확도 :  0.9385964912280702\n",
      "랜덤포레스트의 정확도 :  0.956140350877193\n",
      "SVM의 정확도 :  0.9035087719298246\n",
      "sgd의 정확도 :  0.9385964912280702\n",
      "LogisticRegression의 정확도 :  0.9473684210526315\n"
     ]
    }
   ],
   "source": [
    "print('의사결정나무의 정확도 : ',decision_accuracy)\n",
    "print('랜덤포레스트의 정확도 : ',random_accuracy)\n",
    "print('SVM의 정확도 : ',svm_accuracy)\n",
    "print('sgd의 정확도 : ',sgd_accuracy)\n",
    "print('LogisticRegression의 정확도 : ',logistic_accuracy)"
   ]
  },
  {
   "cell_type": "markdown",
   "id": "9d01e73d",
   "metadata": {},
   "source": [
    "## 6) 모델평가\n",
    "\n",
    "각 모델들의 정확도를 비교해 보니 랜덤포레스트가 가장 좋은 성능을 보인다고 알고 있는데 랜덤포레스트가 잘 분류했다고 나왔다. "
   ]
  },
  {
   "cell_type": "markdown",
   "id": "e339d88b",
   "metadata": {},
   "source": [
    "==========================================================================================================================================\n",
    "# 프로젝트 (2) load_wine : 와인을 분류해 봅시다\n",
    "\n",
    "1) 필요한 모듈 import하기\n",
    "\n",
    "2) 데이터 준비\n",
    "\n",
    "3) 데이터 이해하기\n",
    "\n",
    "Feature Data 지정하기   \n",
    "Label Data 지정하기   \n",
    "Target Names 출력해 보기   \n",
    "데이터 Describe 해 보기   \n",
    "\n",
    "4) train, test 데이터 분리\n",
    "\n",
    "5) 다양한 모델로 학습시켜보기\n",
    "\n",
    "6) 모델을 평가해 보기\n",
    "\n",
    "=========================================================================================================================================="
   ]
  },
  {
   "cell_type": "code",
   "execution_count": 4,
   "id": "81588e11",
   "metadata": {},
   "outputs": [
    {
     "name": "stdout",
     "output_type": "stream",
     "text": [
      "dict_keys(['data', 'target', 'frame', 'target_names', 'DESCR', 'feature_names'])\n"
     ]
    }
   ],
   "source": [
    "# 와인데이터를 로드한다 그 다음 key를 통해 데이터 확인\n",
    "wine = load_wine() \n",
    "print(wine.keys())"
   ]
  },
  {
   "cell_type": "code",
   "execution_count": 5,
   "id": "0153cf69",
   "metadata": {
    "scrolled": true
   },
   "outputs": [
    {
     "name": "stdout",
     "output_type": "stream",
     "text": [
      ".. _wine_dataset:\n",
      "\n",
      "Wine recognition dataset\n",
      "------------------------\n",
      "\n",
      "**Data Set Characteristics:**\n",
      "\n",
      "    :Number of Instances: 178 (50 in each of three classes)\n",
      "    :Number of Attributes: 13 numeric, predictive attributes and the class\n",
      "    :Attribute Information:\n",
      " \t\t- Alcohol\n",
      " \t\t- Malic acid\n",
      " \t\t- Ash\n",
      "\t\t- Alcalinity of ash  \n",
      " \t\t- Magnesium\n",
      "\t\t- Total phenols\n",
      " \t\t- Flavanoids\n",
      " \t\t- Nonflavanoid phenols\n",
      " \t\t- Proanthocyanins\n",
      "\t\t- Color intensity\n",
      " \t\t- Hue\n",
      " \t\t- OD280/OD315 of diluted wines\n",
      " \t\t- Proline\n",
      "\n",
      "    - class:\n",
      "            - class_0\n",
      "            - class_1\n",
      "            - class_2\n",
      "\t\t\n",
      "    :Summary Statistics:\n",
      "    \n",
      "    ============================= ==== ===== ======= =====\n",
      "                                   Min   Max   Mean     SD\n",
      "    ============================= ==== ===== ======= =====\n",
      "    Alcohol:                      11.0  14.8    13.0   0.8\n",
      "    Malic Acid:                   0.74  5.80    2.34  1.12\n",
      "    Ash:                          1.36  3.23    2.36  0.27\n",
      "    Alcalinity of Ash:            10.6  30.0    19.5   3.3\n",
      "    Magnesium:                    70.0 162.0    99.7  14.3\n",
      "    Total Phenols:                0.98  3.88    2.29  0.63\n",
      "    Flavanoids:                   0.34  5.08    2.03  1.00\n",
      "    Nonflavanoid Phenols:         0.13  0.66    0.36  0.12\n",
      "    Proanthocyanins:              0.41  3.58    1.59  0.57\n",
      "    Colour Intensity:              1.3  13.0     5.1   2.3\n",
      "    Hue:                          0.48  1.71    0.96  0.23\n",
      "    OD280/OD315 of diluted wines: 1.27  4.00    2.61  0.71\n",
      "    Proline:                       278  1680     746   315\n",
      "    ============================= ==== ===== ======= =====\n",
      "\n",
      "    :Missing Attribute Values: None\n",
      "    :Class Distribution: class_0 (59), class_1 (71), class_2 (48)\n",
      "    :Creator: R.A. Fisher\n",
      "    :Donor: Michael Marshall (MARSHALL%PLU@io.arc.nasa.gov)\n",
      "    :Date: July, 1988\n",
      "\n",
      "This is a copy of UCI ML Wine recognition datasets.\n",
      "https://archive.ics.uci.edu/ml/machine-learning-databases/wine/wine.data\n",
      "\n",
      "The data is the results of a chemical analysis of wines grown in the same\n",
      "region in Italy by three different cultivators. There are thirteen different\n",
      "measurements taken for different constituents found in the three types of\n",
      "wine.\n",
      "\n",
      "Original Owners: \n",
      "\n",
      "Forina, M. et al, PARVUS - \n",
      "An Extendible Package for Data Exploration, Classification and Correlation. \n",
      "Institute of Pharmaceutical and Food Analysis and Technologies,\n",
      "Via Brigata Salerno, 16147 Genoa, Italy.\n",
      "\n",
      "Citation:\n",
      "\n",
      "Lichman, M. (2013). UCI Machine Learning Repository\n",
      "[https://archive.ics.uci.edu/ml]. Irvine, CA: University of California,\n",
      "School of Information and Computer Science. \n",
      "\n",
      ".. topic:: References\n",
      "\n",
      "  (1) S. Aeberhard, D. Coomans and O. de Vel, \n",
      "  Comparison of Classifiers in High Dimensional Settings, \n",
      "  Tech. Rep. no. 92-02, (1992), Dept. of Computer Science and Dept. of  \n",
      "  Mathematics and Statistics, James Cook University of North Queensland. \n",
      "  (Also submitted to Technometrics). \n",
      "\n",
      "  The data was used with many others for comparing various \n",
      "  classifiers. The classes are separable, though only RDA \n",
      "  has achieved 100% correct classification. \n",
      "  (RDA : 100%, QDA 99.4%, LDA 98.9%, 1NN 96.1% (z-transformed data)) \n",
      "  (All results using the leave-one-out technique) \n",
      "\n",
      "  (2) S. Aeberhard, D. Coomans and O. de Vel, \n",
      "  \"THE CLASSIFICATION PERFORMANCE OF RDA\" \n",
      "  Tech. Rep. no. 92-01, (1992), Dept. of Computer Science and Dept. of \n",
      "  Mathematics and Statistics, James Cook University of North Queensland. \n",
      "  (Also submitted to Journal of Chemometrics).\n",
      "\n"
     ]
    }
   ],
   "source": [
    "# 데이터 Describe 해 보기\n",
    "print(wine.DESCR)"
   ]
  },
  {
   "cell_type": "code",
   "execution_count": 6,
   "id": "f59950f5",
   "metadata": {},
   "outputs": [
    {
     "name": "stdout",
     "output_type": "stream",
     "text": [
      "(178, 13)\n"
     ]
    }
   ],
   "source": [
    "# 와인데이터에서 feature로 되어있는 데이터를 가져온다.\n",
    "wine_data = wine.data\n",
    "print(wine_data.shape)"
   ]
  },
  {
   "cell_type": "code",
   "execution_count": 7,
   "id": "3da79b8e",
   "metadata": {},
   "outputs": [],
   "source": [
    "# 와인데이터에서 feature로 되어있는 데이터를 가져온다.\n",
    "wine_data = wine.data\n",
    "print(wine_data.shape)"
   ]
  },
  {
   "cell_type": "code",
   "execution_count": 44,
   "id": "446c9504",
   "metadata": {},
   "outputs": [
    {
     "data": {
      "text/plain": [
       "array([1.423e+01, 1.710e+00, 2.430e+00, 1.560e+01, 1.270e+02, 2.800e+00,\n",
       "       3.060e+00, 2.800e-01, 2.290e+00, 5.640e+00, 1.040e+00, 3.920e+00,\n",
       "       1.065e+03])"
      ]
     },
     "execution_count": 44,
     "metadata": {},
     "output_type": "execute_result"
    }
   ],
   "source": [
    "#feature데이터의 0번째 데이터의 숫자 확인\n",
    "wine_data[0]"
   ]
  },
  {
   "cell_type": "code",
   "execution_count": 8,
   "id": "847ba687",
   "metadata": {},
   "outputs": [
    {
     "name": "stdout",
     "output_type": "stream",
     "text": [
      "(178,)\n"
     ]
    }
   ],
   "source": [
    "# 라벨 저장  / Label Data 지정하기\n",
    "wine_label = wine.target\n",
    "print(wine_label.shape)"
   ]
  },
  {
   "cell_type": "code",
   "execution_count": 9,
   "id": "d39c1d78",
   "metadata": {},
   "outputs": [
    {
     "data": {
      "text/plain": [
       "array([0, 0, 0, 0, 0, 0, 0, 0, 0, 0, 0, 0, 0, 0, 0, 0, 0, 0, 0, 0])"
      ]
     },
     "execution_count": 9,
     "metadata": {},
     "output_type": "execute_result"
    }
   ],
   "source": [
    "#라벨이 들어가 있는 모양 확인\n",
    "wine_label[0:20]"
   ]
  },
  {
   "cell_type": "code",
   "execution_count": 10,
   "id": "bf55592b",
   "metadata": {},
   "outputs": [
    {
     "data": {
      "text/plain": [
       "array(['class_0', 'class_1', 'class_2'], dtype='<U7')"
      ]
     },
     "execution_count": 10,
     "metadata": {},
     "output_type": "execute_result"
    }
   ],
   "source": [
    "#라벨들의 종류를 확인  / Target Names 출력해 보기\n",
    "wine.target_names"
   ]
  },
  {
   "cell_type": "markdown",
   "id": "efc9d241",
   "metadata": {},
   "source": [
    "### train, test 데이터 분리"
   ]
  },
  {
   "cell_type": "code",
   "execution_count": 20,
   "id": "9820be74",
   "metadata": {},
   "outputs": [],
   "source": [
    "#train데이터롸 test데이터를 위해 split하기\n",
    "X_train, X_test, y_train, y_test = train_test_split(wine_data, \n",
    "                                                    wine_label, \n",
    "                                                    test_size=0.2, \n",
    "                                                    random_state=1)"
   ]
  },
  {
   "cell_type": "code",
   "execution_count": 65,
   "id": "9a462c27",
   "metadata": {
    "scrolled": true
   },
   "outputs": [
    {
     "name": "stdout",
     "output_type": "stream",
     "text": [
      "              precision    recall  f1-score   support\n",
      "\n",
      "           0       0.93      0.90      0.92        42\n",
      "           1       0.95      0.96      0.95        72\n",
      "\n",
      "    accuracy                           0.94       114\n",
      "   macro avg       0.94      0.93      0.93       114\n",
      "weighted avg       0.94      0.94      0.94       114\n",
      "\n",
      "[[38  4]\n",
      " [ 3 69]]\n",
      "의사결정나무의 정확도 :  0.9385964912280702\n",
      "              precision    recall  f1-score   support\n",
      "\n",
      "           0       0.97      0.90      0.94        42\n",
      "           1       0.95      0.99      0.97        72\n",
      "\n",
      "    accuracy                           0.96       114\n",
      "   macro avg       0.96      0.95      0.95       114\n",
      "weighted avg       0.96      0.96      0.96       114\n",
      "\n",
      "[[38  4]\n",
      " [ 1 71]]\n",
      "랜덤포레스트의 정확도 :  0.956140350877193\n",
      "              precision    recall  f1-score   support\n",
      "\n",
      "           0       1.00      0.74      0.85        42\n",
      "           1       0.87      1.00      0.93        72\n",
      "\n",
      "    accuracy                           0.90       114\n",
      "   macro avg       0.93      0.87      0.89       114\n",
      "weighted avg       0.92      0.90      0.90       114\n",
      "\n",
      "[[31 11]\n",
      " [ 0 72]]\n",
      "SVM의 정확도 :  0.9035087719298246\n",
      "              precision    recall  f1-score   support\n",
      "\n",
      "           0       0.96      0.55      0.70        42\n",
      "           1       0.79      0.99      0.88        72\n",
      "\n",
      "    accuracy                           0.82       114\n",
      "   macro avg       0.87      0.77      0.79       114\n",
      "weighted avg       0.85      0.82      0.81       114\n",
      "\n",
      "[[23 19]\n",
      " [ 1 71]]\n",
      "sgd의 정확도:  0.8245614035087719\n",
      "              precision    recall  f1-score   support\n",
      "\n",
      "           0       0.95      0.90      0.93        42\n",
      "           1       0.95      0.97      0.96        72\n",
      "\n",
      "    accuracy                           0.95       114\n",
      "   macro avg       0.95      0.94      0.94       114\n",
      "weighted avg       0.95      0.95      0.95       114\n",
      "\n",
      "[[38  4]\n",
      " [ 2 70]]\n",
      "LogisticRegression의 정확도 :  0.9473684210526315\n"
     ]
    },
    {
     "name": "stderr",
     "output_type": "stream",
     "text": [
      "/opt/conda/lib/python3.9/site-packages/sklearn/linear_model/_logistic.py:814: ConvergenceWarning: lbfgs failed to converge (status=1):\n",
      "STOP: TOTAL NO. of ITERATIONS REACHED LIMIT.\n",
      "\n",
      "Increase the number of iterations (max_iter) or scale the data as shown in:\n",
      "    https://scikit-learn.org/stable/modules/preprocessing.html\n",
      "Please also refer to the documentation for alternative solver options:\n",
      "    https://scikit-learn.org/stable/modules/linear_model.html#logistic-regression\n",
      "  n_iter_i = _check_optimize_result(\n"
     ]
    }
   ],
   "source": [
    "# Decision Tree (의사결정나무)\n",
    "\n",
    "# 훈련(모델의 적용)\n",
    "decision_tree = DecisionTreeClassifier(random_state=32) \n",
    "# 훈련\n",
    "decision_tree.fit(X_train, y_train)\n",
    "# 예측\n",
    "y_pred = decision_tree.predict(X_test) # 훈련된 분류기에 X_test라는 테스트 데이터셋을 넣어 얼마나 예측했는지 확인한다.\n",
    "# 분석결과 확인\n",
    "print(classification_report(y_test, y_pred)) # 결과를 지표로 확인하기 위해 classification_report를 활용해 y_test, y_pred 값을 넣어 확인한다.\n",
    "# 오차행렬인 컴퓨전 메트릭스 확인\n",
    "decision_matrix = confusion_matrix(y_test, y_pred)\n",
    "print(decision_matrix)\n",
    "#정확도 비교해보기\n",
    "decision_accuracy = accuracy_score(y_test, y_pred)\n",
    "print('의사결정나무의 정확도 : ',decision_accuracy)\n",
    "\n",
    "# Random Forest(랜덤포레스트)\n",
    "\n",
    "# 모델 적용\n",
    "random_forest = RandomForestClassifier(random_state=32) \n",
    "# 훈련\n",
    "random_forest.fit(X_train, y_train) \n",
    "# 예측\n",
    "y_pred = random_forest.predict(X_test) \n",
    "# 분석 결과 확인\n",
    "print(classification_report(y_test, y_pred))\n",
    "# 오차행렬인 컴퓨전 메트릭스 확인\n",
    "random_matrix = confusion_matrix(y_test, y_pred)\n",
    "print(random_matrix)\n",
    "#정확도 비교해보기\n",
    "random_accuracy = accuracy_score(y_test, y_pred)\n",
    "print('랜덤포레스트의 정확도 : ',random_accuracy)\n",
    "\n",
    "# SVM\n",
    "\n",
    "# 모델 적용\n",
    "svm_model = svm.SVC() \n",
    "# 훈련\n",
    "svm_model.fit(X_train, y_train)  \n",
    "# 예측\n",
    "y_pred = svm_model.predict(X_test) \n",
    "# 분석 결과 확인\n",
    "print(classification_report(y_test, y_pred)) \n",
    "# 오차행렬인 컴퓨전 메트릭스 확인\n",
    "svm_matrix = confusion_matrix(y_test, y_pred)\n",
    "print(svm_matrix)\n",
    "#정확도 비교해보기\n",
    "svm_accuracy = accuracy_score(y_test, y_pred)\n",
    "print('SVM의 정확도 : ',svm_accuracy)\n",
    "\n",
    "#SGD Classifier\n",
    "\n",
    "# 모델 적용\n",
    "sgd_model = SGDClassifier()\n",
    "# 훈련\n",
    "sgd_model.fit(X_train, y_train)    \n",
    "# 예측\n",
    "y_pred = sgd_model.predict(X_test) \n",
    "# 분석 결과 확인\n",
    "print(classification_report(y_test, y_pred)) \n",
    "# 오차행렬인 컴퓨전 메트릭스 확인\n",
    "sgd_matrix = confusion_matrix(y_test, y_pred)\n",
    "print(sgd_matrix)\n",
    "# 정확도 비교하기\n",
    "sgd_accuracy = accuracy_score(y_test, y_pred)\n",
    "print(\"sgd의 정확도: \", sgd_accuracy)\n",
    "\n",
    "# Logistic Regression\n",
    "\n",
    "# 모델 적용\n",
    "logistic_model = LogisticRegression()\n",
    "logistic_model.fit(X_train, y_train)   \n",
    "# 예측\n",
    "y_pred = logistic_model.predict(X_test)\n",
    "# 분석 결과 확인\n",
    "print(classification_report(y_test, y_pred))\n",
    "# 오차행렬인 컴퓨전 메트릭스 확인\n",
    "logistic_matrix = confusion_matrix(y_test, y_pred)\n",
    "print(logistic_matrix)\n",
    "# 정확도 비교하기\n",
    "logistic_accuracy = accuracy_score(y_test, y_pred)\n",
    "print('LogisticRegression의 정확도 : ',logistic_accuracy)"
   ]
  },
  {
   "cell_type": "code",
   "execution_count": 66,
   "id": "04b9823a",
   "metadata": {},
   "outputs": [
    {
     "name": "stdout",
     "output_type": "stream",
     "text": [
      "의사결정나무의 정확도 :  0.9385964912280702\n",
      "랜덤포레스트의 정확도 :  0.956140350877193\n",
      "SVM의 정확도 :  0.9035087719298246\n",
      "sgd의 정확도 :  0.8245614035087719\n",
      "LogisticRegression의 정확도 :  0.9473684210526315\n"
     ]
    }
   ],
   "source": [
    "print('의사결정나무의 정확도 : ',decision_accuracy)\n",
    "print('랜덤포레스트의 정확도 : ',random_accuracy)\n",
    "print('SVM의 정확도 : ',svm_accuracy)\n",
    "print('sgd의 정확도 : ',sgd_accuracy)\n",
    "print('LogisticRegression의 정확도 : ',logistic_accuracy)"
   ]
  },
  {
   "cell_type": "markdown",
   "id": "7967a5e9",
   "metadata": {},
   "source": [
    "## 6) 모델평가\n",
    "\n",
    "분류문제에서는 랜덤포레스트가 좋은 성능을 보이고 있다. 의사결정 나무를 다수 생성하고 class를 분류하는 것이 wine데이터에서는 긍정적인 성능을 보이는 것 같다."
   ]
  },
  {
   "cell_type": "markdown",
   "id": "538d7e4e",
   "metadata": {},
   "source": [
    "==========================================================================================================================================\n",
    "# 프로젝트 (3) load_breast_cancer : 유방암 여부를 진단해 봅시다.\n",
    "\n",
    "1) 필요한 모듈 import하기\n",
    "\n",
    "2) 데이터 준비\n",
    "\n",
    "3) 데이터 이해하기\n",
    "\n",
    "Feature Data 지정하기   \n",
    "Label Data 지정하기   \n",
    "Target Names 출력해 보기   \n",
    "데이터 Describe 해 보기   \n",
    "\n",
    "4) train, test 데이터 분리\n",
    "\n",
    "5) 다양한 모델로 학습시켜보기\n",
    "\n",
    "6) 모델을 평가해 보기\n",
    "\n",
    "=========================================================================================================================================="
   ]
  },
  {
   "cell_type": "code",
   "execution_count": 35,
   "id": "ba69c051",
   "metadata": {},
   "outputs": [
    {
     "name": "stdout",
     "output_type": "stream",
     "text": [
      "dict_keys(['data', 'target', 'frame', 'target_names', 'DESCR', 'feature_names', 'filename', 'data_module'])\n"
     ]
    }
   ],
   "source": [
    "# 암데이터를 로드한다 그 다음 key를 통해 데이터 확인\n",
    "breast_cancer = load_breast_cancer() \n",
    "print(breast_cancer.keys())"
   ]
  },
  {
   "cell_type": "code",
   "execution_count": 36,
   "id": "1cd32e15",
   "metadata": {},
   "outputs": [
    {
     "name": "stdout",
     "output_type": "stream",
     "text": [
      ".. _breast_cancer_dataset:\n",
      "\n",
      "Breast cancer wisconsin (diagnostic) dataset\n",
      "--------------------------------------------\n",
      "\n",
      "**Data Set Characteristics:**\n",
      "\n",
      "    :Number of Instances: 569\n",
      "\n",
      "    :Number of Attributes: 30 numeric, predictive attributes and the class\n",
      "\n",
      "    :Attribute Information:\n",
      "        - radius (mean of distances from center to points on the perimeter)\n",
      "        - texture (standard deviation of gray-scale values)\n",
      "        - perimeter\n",
      "        - area\n",
      "        - smoothness (local variation in radius lengths)\n",
      "        - compactness (perimeter^2 / area - 1.0)\n",
      "        - concavity (severity of concave portions of the contour)\n",
      "        - concave points (number of concave portions of the contour)\n",
      "        - symmetry\n",
      "        - fractal dimension (\"coastline approximation\" - 1)\n",
      "\n",
      "        The mean, standard error, and \"worst\" or largest (mean of the three\n",
      "        worst/largest values) of these features were computed for each image,\n",
      "        resulting in 30 features.  For instance, field 0 is Mean Radius, field\n",
      "        10 is Radius SE, field 20 is Worst Radius.\n",
      "\n",
      "        - class:\n",
      "                - WDBC-Malignant\n",
      "                - WDBC-Benign\n",
      "\n",
      "    :Summary Statistics:\n",
      "\n",
      "    ===================================== ====== ======\n",
      "                                           Min    Max\n",
      "    ===================================== ====== ======\n",
      "    radius (mean):                        6.981  28.11\n",
      "    texture (mean):                       9.71   39.28\n",
      "    perimeter (mean):                     43.79  188.5\n",
      "    area (mean):                          143.5  2501.0\n",
      "    smoothness (mean):                    0.053  0.163\n",
      "    compactness (mean):                   0.019  0.345\n",
      "    concavity (mean):                     0.0    0.427\n",
      "    concave points (mean):                0.0    0.201\n",
      "    symmetry (mean):                      0.106  0.304\n",
      "    fractal dimension (mean):             0.05   0.097\n",
      "    radius (standard error):              0.112  2.873\n",
      "    texture (standard error):             0.36   4.885\n",
      "    perimeter (standard error):           0.757  21.98\n",
      "    area (standard error):                6.802  542.2\n",
      "    smoothness (standard error):          0.002  0.031\n",
      "    compactness (standard error):         0.002  0.135\n",
      "    concavity (standard error):           0.0    0.396\n",
      "    concave points (standard error):      0.0    0.053\n",
      "    symmetry (standard error):            0.008  0.079\n",
      "    fractal dimension (standard error):   0.001  0.03\n",
      "    radius (worst):                       7.93   36.04\n",
      "    texture (worst):                      12.02  49.54\n",
      "    perimeter (worst):                    50.41  251.2\n",
      "    area (worst):                         185.2  4254.0\n",
      "    smoothness (worst):                   0.071  0.223\n",
      "    compactness (worst):                  0.027  1.058\n",
      "    concavity (worst):                    0.0    1.252\n",
      "    concave points (worst):               0.0    0.291\n",
      "    symmetry (worst):                     0.156  0.664\n",
      "    fractal dimension (worst):            0.055  0.208\n",
      "    ===================================== ====== ======\n",
      "\n",
      "    :Missing Attribute Values: None\n",
      "\n",
      "    :Class Distribution: 212 - Malignant, 357 - Benign\n",
      "\n",
      "    :Creator:  Dr. William H. Wolberg, W. Nick Street, Olvi L. Mangasarian\n",
      "\n",
      "    :Donor: Nick Street\n",
      "\n",
      "    :Date: November, 1995\n",
      "\n",
      "This is a copy of UCI ML Breast Cancer Wisconsin (Diagnostic) datasets.\n",
      "https://goo.gl/U2Uwz2\n",
      "\n",
      "Features are computed from a digitized image of a fine needle\n",
      "aspirate (FNA) of a breast mass.  They describe\n",
      "characteristics of the cell nuclei present in the image.\n",
      "\n",
      "Separating plane described above was obtained using\n",
      "Multisurface Method-Tree (MSM-T) [K. P. Bennett, \"Decision Tree\n",
      "Construction Via Linear Programming.\" Proceedings of the 4th\n",
      "Midwest Artificial Intelligence and Cognitive Science Society,\n",
      "pp. 97-101, 1992], a classification method which uses linear\n",
      "programming to construct a decision tree.  Relevant features\n",
      "were selected using an exhaustive search in the space of 1-4\n",
      "features and 1-3 separating planes.\n",
      "\n",
      "The actual linear program used to obtain the separating plane\n",
      "in the 3-dimensional space is that described in:\n",
      "[K. P. Bennett and O. L. Mangasarian: \"Robust Linear\n",
      "Programming Discrimination of Two Linearly Inseparable Sets\",\n",
      "Optimization Methods and Software 1, 1992, 23-34].\n",
      "\n",
      "This database is also available through the UW CS ftp server:\n",
      "\n",
      "ftp ftp.cs.wisc.edu\n",
      "cd math-prog/cpo-dataset/machine-learn/WDBC/\n",
      "\n",
      ".. topic:: References\n",
      "\n",
      "   - W.N. Street, W.H. Wolberg and O.L. Mangasarian. Nuclear feature extraction \n",
      "     for breast tumor diagnosis. IS&T/SPIE 1993 International Symposium on \n",
      "     Electronic Imaging: Science and Technology, volume 1905, pages 861-870,\n",
      "     San Jose, CA, 1993.\n",
      "   - O.L. Mangasarian, W.N. Street and W.H. Wolberg. Breast cancer diagnosis and \n",
      "     prognosis via linear programming. Operations Research, 43(4), pages 570-577, \n",
      "     July-August 1995.\n",
      "   - W.H. Wolberg, W.N. Street, and O.L. Mangasarian. Machine learning techniques\n",
      "     to diagnose breast cancer from fine-needle aspirates. Cancer Letters 77 (1994) \n",
      "     163-171.\n"
     ]
    }
   ],
   "source": [
    "# 데이터 Describe 해 보기\n",
    "print(breast_cancer.DESCR)"
   ]
  },
  {
   "cell_type": "code",
   "execution_count": 37,
   "id": "953dded4",
   "metadata": {},
   "outputs": [
    {
     "name": "stdout",
     "output_type": "stream",
     "text": [
      "(569, 30)\n"
     ]
    }
   ],
   "source": [
    "# 암 데이터에서 feature로 되어있는 데이터를 가져온다.\n",
    "breast_cancer_data = breast_cancer.data\n",
    "print(breast_cancer_data.shape)"
   ]
  },
  {
   "cell_type": "markdown",
   "id": "c65357ac",
   "metadata": {},
   "source": [
    "유방암 데이터에는 30개의 변수(특징)이 있고 총 569개의 데이터(행)가 있다."
   ]
  },
  {
   "cell_type": "code",
   "execution_count": 38,
   "id": "4263d5f6",
   "metadata": {},
   "outputs": [
    {
     "name": "stdout",
     "output_type": "stream",
     "text": [
      "(569,)\n"
     ]
    }
   ],
   "source": [
    "# 라벨 저장  / Label Data 지정하기\n",
    "breast_cancer_label = breast_cancer.target\n",
    "print(breast_cancer_label.shape)"
   ]
  },
  {
   "cell_type": "code",
   "execution_count": 39,
   "id": "4b0b5791",
   "metadata": {},
   "outputs": [
    {
     "data": {
      "text/plain": [
       "array([0, 0, 0, 0, 0, 0, 0, 0, 0, 0, 0, 0, 0, 0, 0, 0, 0, 0, 0, 1])"
      ]
     },
     "execution_count": 39,
     "metadata": {},
     "output_type": "execute_result"
    }
   ],
   "source": [
    "#라벨이 들어가 있는 모양 확인\n",
    "breast_cancer_label[0:20]"
   ]
  },
  {
   "cell_type": "code",
   "execution_count": 43,
   "id": "e569ff8b",
   "metadata": {},
   "outputs": [
    {
     "data": {
      "text/plain": [
       "array([1.799e+01, 1.038e+01, 1.228e+02, 1.001e+03, 1.184e-01, 2.776e-01,\n",
       "       3.001e-01, 1.471e-01, 2.419e-01, 7.871e-02, 1.095e+00, 9.053e-01,\n",
       "       8.589e+00, 1.534e+02, 6.399e-03, 4.904e-02, 5.373e-02, 1.587e-02,\n",
       "       3.003e-02, 6.193e-03, 2.538e+01, 1.733e+01, 1.846e+02, 2.019e+03,\n",
       "       1.622e-01, 6.656e-01, 7.119e-01, 2.654e-01, 4.601e-01, 1.189e-01])"
      ]
     },
     "execution_count": 43,
     "metadata": {},
     "output_type": "execute_result"
    }
   ],
   "source": [
    "#feature데이터의 0번째 데이터의 숫자 확인\n",
    "breast_cancer_data[0]"
   ]
  },
  {
   "cell_type": "code",
   "execution_count": 40,
   "id": "768f8056",
   "metadata": {},
   "outputs": [
    {
     "data": {
      "text/plain": [
       "array(['malignant', 'benign'], dtype='<U9')"
      ]
     },
     "execution_count": 40,
     "metadata": {},
     "output_type": "execute_result"
    }
   ],
   "source": [
    "#라벨들의 종류를 확인  / Target Names 출력해 보기\n",
    "breast_cancer.target_names"
   ]
  },
  {
   "cell_type": "markdown",
   "id": "e3d5ba8c",
   "metadata": {},
   "source": [
    "라벨은 2가지 종류가 있다. 여기서는 암이 있다, 없다로 분류 한다\n",
    "\n",
    "노드를 진행하면서 나온 퀴즈이다. \n",
    "암을 진단하는 경우 실제 환자를 한 명이라도 놓치면 안 된다. 즉 양성을 음성으로 판단하면 안 되기 때문에 Recall이 더 중요하다. 라는 답안을 참고하자"
   ]
  },
  {
   "cell_type": "markdown",
   "id": "95de6876",
   "metadata": {},
   "source": [
    "### train, test 데이터 분리"
   ]
  },
  {
   "cell_type": "code",
   "execution_count": 45,
   "id": "0a67178c",
   "metadata": {},
   "outputs": [],
   "source": [
    "#train데이터롸 test데이터를 위해 split하기\n",
    "X_train, X_test, y_train, y_test = train_test_split(breast_cancer_data, \n",
    "                                                    breast_cancer_label, \n",
    "                                                    test_size=0.2, \n",
    "                                                    random_state=1)"
   ]
  },
  {
   "cell_type": "code",
   "execution_count": 49,
   "id": "feeb8149",
   "metadata": {},
   "outputs": [
    {
     "name": "stdout",
     "output_type": "stream",
     "text": [
      "              precision    recall  f1-score   support\n",
      "\n",
      "           0       0.93      0.90      0.92        42\n",
      "           1       0.95      0.96      0.95        72\n",
      "\n",
      "    accuracy                           0.94       114\n",
      "   macro avg       0.94      0.93      0.93       114\n",
      "weighted avg       0.94      0.94      0.94       114\n",
      "\n",
      "[[38  4]\n",
      " [ 3 69]]\n",
      "의사결정나무의 recall값 :  0.9047619047619048\n",
      "              precision    recall  f1-score   support\n",
      "\n",
      "           0       0.97      0.90      0.94        42\n",
      "           1       0.95      0.99      0.97        72\n",
      "\n",
      "    accuracy                           0.96       114\n",
      "   macro avg       0.96      0.95      0.95       114\n",
      "weighted avg       0.96      0.96      0.96       114\n",
      "\n",
      "[[38  4]\n",
      " [ 1 71]]\n",
      "랜덤 포레스트의 recall값 :  0.9047619047619048\n",
      "              precision    recall  f1-score   support\n",
      "\n",
      "           0       1.00      0.74      0.85        42\n",
      "           1       0.87      1.00      0.93        72\n",
      "\n",
      "    accuracy                           0.90       114\n",
      "   macro avg       0.93      0.87      0.89       114\n",
      "weighted avg       0.92      0.90      0.90       114\n",
      "\n",
      "[[31 11]\n",
      " [ 0 72]]\n",
      "SVM의 recall값 :  0.7380952380952381\n",
      "              precision    recall  f1-score   support\n",
      "\n",
      "           0       0.97      0.71      0.82        42\n",
      "           1       0.86      0.99      0.92        72\n",
      "\n",
      "    accuracy                           0.89       114\n",
      "   macro avg       0.91      0.85      0.87       114\n",
      "weighted avg       0.90      0.89      0.88       114\n",
      "\n",
      "[[30 12]\n",
      " [ 1 71]]\n",
      "SGD의 recall값 :  0.7142857142857143\n",
      "              precision    recall  f1-score   support\n",
      "\n",
      "           0       0.95      0.90      0.93        42\n",
      "           1       0.95      0.97      0.96        72\n",
      "\n",
      "    accuracy                           0.95       114\n",
      "   macro avg       0.95      0.94      0.94       114\n",
      "weighted avg       0.95      0.95      0.95       114\n",
      "\n",
      "[[38  4]\n",
      " [ 2 70]]\n",
      "로지스틱의 recall값 :  0.9047619047619048\n"
     ]
    },
    {
     "name": "stderr",
     "output_type": "stream",
     "text": [
      "/opt/conda/lib/python3.9/site-packages/sklearn/linear_model/_logistic.py:814: ConvergenceWarning: lbfgs failed to converge (status=1):\n",
      "STOP: TOTAL NO. of ITERATIONS REACHED LIMIT.\n",
      "\n",
      "Increase the number of iterations (max_iter) or scale the data as shown in:\n",
      "    https://scikit-learn.org/stable/modules/preprocessing.html\n",
      "Please also refer to the documentation for alternative solver options:\n",
      "    https://scikit-learn.org/stable/modules/linear_model.html#logistic-regression\n",
      "  n_iter_i = _check_optimize_result(\n"
     ]
    }
   ],
   "source": [
    "# 훈련(모델의 적용)\n",
    "decision_tree = DecisionTreeClassifier(random_state=32) \n",
    "# 훈련\n",
    "decision_tree.fit(X_train, y_train)\n",
    "# 예측\n",
    "y_pred = decision_tree.predict(X_test) # 훈련된 분류기에 X_test라는 테스트 데이터셋을 넣어 얼마나 예측했는지 확인한다.\n",
    "# 분석결과 확인\n",
    "print(classification_report(y_test, y_pred)) # 결과를 지표로 확인하기 위해 classification_report를 활용해 y_test, y_pred 값을 넣어 확인한다.\n",
    "# 오차행렬인 컴퓨전 메트릭스 확인\n",
    "decision_matrix = confusion_matrix(y_test, y_pred)\n",
    "print(decision_matrix)\n",
    "#recall 비교해보기\n",
    "decision_recall=decision_matrix[0][0]/(decision_matrix[0][0]+decision_matrix[0][1])\n",
    "print('의사결정나무의 recall값 : ',decision_recall)\n",
    "\n",
    "\n",
    "# 모델 적용\n",
    "random_forest = RandomForestClassifier(random_state=32) \n",
    "# 훈련\n",
    "random_forest.fit(X_train, y_train) \n",
    "# 예측\n",
    "y_pred = random_forest.predict(X_test) \n",
    "# 분석 결과 확인\n",
    "print(classification_report(y_test, y_pred))\n",
    "# 오차행렬인 컴퓨전 메트릭스 확인\n",
    "random_matrix = confusion_matrix(y_test, y_pred)\n",
    "print(random_matrix)\n",
    "#recall값 구하기\n",
    "random_recall=random_matrix[0][0]/(random_matrix[0][0]+random_matrix[0][1])\n",
    "print('랜덤 포레스트의 recall값 : ',random_recall)\n",
    "\n",
    "\n",
    "# 모델 적용\n",
    "svm_model = svm.SVC() \n",
    "# 훈련\n",
    "svm_model.fit(X_train, y_train)  \n",
    "# 예측\n",
    "y_pred = svm_model.predict(X_test) \n",
    "# 분석 결과 확인\n",
    "print(classification_report(y_test, y_pred)) \n",
    "# 오차행렬인 컴퓨전 메트릭스 확인\n",
    "svm_matrix = confusion_matrix(y_test, y_pred)\n",
    "print(svm_matrix)\n",
    "#recall값 구하기\n",
    "svm_recall=svm_matrix[0][0]/(svm_matrix[0][0]+svm_matrix[0][1])\n",
    "print('SVM의 recall값 : ',svm_recall)\n",
    "\n",
    "\n",
    "\n",
    "# 모델 적용\n",
    "sgd_model = SGDClassifier()\n",
    "# 훈련\n",
    "sgd_model.fit(X_train, y_train)    \n",
    "# 예측\n",
    "y_pred = sgd_model.predict(X_test) \n",
    "# 분석 결과 확인\n",
    "print(classification_report(y_test, y_pred)) \n",
    "# 오차행렬인 컴퓨전 메트릭스 확인\n",
    "sgd_matrix = confusion_matrix(y_test, y_pred)\n",
    "print(sgd_matrix)\n",
    "#recall값 구하기\n",
    "sgd_recall=sgd_matrix[0][0]/(sgd_matrix[0][0]+sgd_matrix[0][1])\n",
    "print('SGD의 recall값 : ',sgd_recall)\n",
    "\n",
    "\n",
    "# 모델 적용\n",
    "logistic_model = LogisticRegression()\n",
    "logistic_model.fit(X_train, y_train)   \n",
    "# 예측\n",
    "y_pred = logistic_model.predict(X_test)\n",
    "# 분석 결과 확인\n",
    "print(classification_report(y_test, y_pred))\n",
    "# 오차행렬인 컴퓨전 메트릭스 확인\n",
    "logistic_matrix = confusion_matrix(y_test, y_pred)\n",
    "print(logistic_matrix)\n",
    "#recall값 구하기\n",
    "logistic_recall=logistic_matrix[0][0]/(logistic_matrix[0][0]+logistic_matrix[0][1])\n",
    "print('로지스틱의 recall값 : ',logistic_recall)"
   ]
  },
  {
   "cell_type": "code",
   "execution_count": 50,
   "id": "8257099b",
   "metadata": {},
   "outputs": [
    {
     "name": "stdout",
     "output_type": "stream",
     "text": [
      "의사결정나무의 recall값 :  0.9047619047619048\n",
      "랜덤포레스트의 recall값 :  0.9047619047619048\n",
      "SVM의 recall값 :  0.7380952380952381\n",
      "sgd의 recall값 :  0.7142857142857143\n",
      "LogisticRegression의 recall값 :  0.9047619047619048\n"
     ]
    }
   ],
   "source": [
    "print('의사결정나무의 recall값 : ',decision_recall)\n",
    "print('랜덤포레스트의 recall값 : ',random_recall)\n",
    "print('SVM의 recall값 : ',svm_recall)\n",
    "print('sgd의 recall값 : ',sgd_recall)\n",
    "print('LogisticRegression의 recall값 : ',logistic_recall)"
   ]
  },
  {
   "cell_type": "markdown",
   "id": "40b0035f",
   "metadata": {},
   "source": [
    "## 6. 모델평가\n",
    "\n",
    "의사결정나무, 랜텀포레스트, 로지스틱리그레이션 이 비교적 높은 값이 나왔고, SVM과 SGD은 낮은 값이 나왔다. 전체적인 정답률을 줄여서라도 양성을 음성으로 판단하는 확률을 0으로 만들어 recall값을 높게해야 한다. 그래야 암인데 잘못 판단하여 치료 시기를 놓치는 안타까운 일이 일어나지 않을것이다."
   ]
  }
 ],
 "metadata": {
  "kernelspec": {
   "display_name": "Python 3 (ipykernel)",
   "language": "python",
   "name": "python3"
  },
  "language_info": {
   "codemirror_mode": {
    "name": "ipython",
    "version": 3
   },
   "file_extension": ".py",
   "mimetype": "text/x-python",
   "name": "python",
   "nbconvert_exporter": "python",
   "pygments_lexer": "ipython3",
   "version": "3.9.7"
  }
 },
 "nbformat": 4,
 "nbformat_minor": 5
}
